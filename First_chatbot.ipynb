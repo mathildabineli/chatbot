{
  "nbformat": 4,
  "nbformat_minor": 0,
  "metadata": {
    "colab": {
      "provenance": [],
      "include_colab_link": true
    },
    "kernelspec": {
      "name": "python3",
      "display_name": "Python 3"
    },
    "language_info": {
      "name": "python"
    }
  },
  "cells": [
    {
      "cell_type": "markdown",
      "metadata": {
        "id": "view-in-github",
        "colab_type": "text"
      },
      "source": [
        "<a href=\"https://colab.research.google.com/github/mathildabineli/chatbot/blob/main/First_chatbot.ipynb\" target=\"_parent\"><img src=\"https://colab.research.google.com/assets/colab-badge.svg\" alt=\"Open In Colab\"/></a>"
      ]
    },
    {
      "cell_type": "code",
      "source": [
        "!pip install -qU \"langchain[mistralai]\""
      ],
      "metadata": {
        "id": "Ri7VffOoqObI"
      },
      "execution_count": null,
      "outputs": []
    },
    {
      "cell_type": "code",
      "execution_count": null,
      "metadata": {
        "id": "77XP4zqQqDqz"
      },
      "outputs": [],
      "source": [
        "MISTRAL_API_KEY = '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'"
      ]
    },
    {
      "cell_type": "code",
      "source": [
        "from langchain_mistralai import ChatMistralAI\n",
        "\n",
        "llm = ChatMistralAI(\n",
        "            model_name=\"mistralai/mistral-small-3.1-24b-instruct:free\",\n",
        "            base_url=\"https://openrouter.ai/api/v1\",\n",
        "            api_key= MISTRAL_API_KEY,\n",
        "            temperature=0.0,\n",
        "        )\n"
      ],
      "metadata": {
        "id": "aWFnpW2OsyKp"
      },
      "execution_count": null,
      "outputs": []
    },
    {
      "cell_type": "code",
      "source": [
        "llm.invoke(\"Hello, world!\")"
      ],
      "metadata": {
        "colab": {
          "base_uri": "https://localhost:8080/"
        },
        "id": "Wr85C9ffqYMu",
        "outputId": "e31fea13-0deb-4b1d-d518-b4296938d27c"
      },
      "execution_count": null,
      "outputs": [
        {
          "output_type": "execute_result",
          "data": {
            "text/plain": [
              "AIMessage(content=\"Hello! How can I assist you today? Let's have a friendly conversation. 😊 How are you doing?\", additional_kwargs={}, response_metadata={'token_usage': {'prompt_tokens': 8, 'completion_tokens': 25, 'total_tokens': 33, 'prompt_tokens_details': None}, 'model_name': 'mistralai/mistral-small-3.1-24b-instruct:free', 'model': 'mistralai/mistral-small-3.1-24b-instruct:free', 'finish_reason': 'stop'}, id='run--d830084b-381f-4766-8b64-9afd48275924-0', usage_metadata={'input_tokens': 8, 'output_tokens': 25, 'total_tokens': 33})"
            ]
          },
          "metadata": {},
          "execution_count": 4
        }
      ]
    },
    {
      "cell_type": "code",
      "source": [
        "from langchain_core.messages import HumanMessage\n",
        "\n",
        "llm.invoke([HumanMessage(content=\"Hi! I'm Bob\")])"
      ],
      "metadata": {
        "colab": {
          "base_uri": "https://localhost:8080/"
        },
        "id": "8VpsePBMuNYj",
        "outputId": "d20b1a8f-e15c-4c44-d6b6-13e1af6521ac"
      },
      "execution_count": null,
      "outputs": [
        {
          "output_type": "execute_result",
          "data": {
            "text/plain": [
              "AIMessage(content=\"Hello Bob! Nice to meet you. How can I assist you today? Let's chat about anything you'd like. 😊\", additional_kwargs={}, response_metadata={'token_usage': {'prompt_tokens': 9, 'completion_tokens': 28, 'total_tokens': 37, 'prompt_tokens_details': None}, 'model_name': 'mistralai/mistral-small-3.1-24b-instruct:free', 'model': 'mistralai/mistral-small-3.1-24b-instruct:free', 'finish_reason': 'stop'}, id='run--434eb7e7-b11a-4702-b577-9ee10eb12d50-0', usage_metadata={'input_tokens': 9, 'output_tokens': 28, 'total_tokens': 37})"
            ]
          },
          "metadata": {},
          "execution_count": 5
        }
      ]
    },
    {
      "cell_type": "code",
      "source": [
        "llm.invoke([HumanMessage(content=\"What's my name?\")])"
      ],
      "metadata": {
        "colab": {
          "base_uri": "https://localhost:8080/"
        },
        "id": "NszXdgEDubj1",
        "outputId": "f1199522-4475-44ce-8665-4da2686208c4"
      },
      "execution_count": null,
      "outputs": [
        {
          "output_type": "execute_result",
          "data": {
            "text/plain": [
              "AIMessage(content=\"I'm sorry, but I don't have the ability to know or remember personal information about individuals. If you'd like, you can share your name with me, and I'll be happy to use it in our conversation!\", additional_kwargs={}, response_metadata={'token_usage': {'prompt_tokens': 9, 'completion_tokens': 46, 'total_tokens': 55, 'prompt_tokens_details': None}, 'model_name': 'mistralai/mistral-small-3.1-24b-instruct:free', 'model': 'mistralai/mistral-small-3.1-24b-instruct:free', 'finish_reason': 'stop'}, id='run--e7cf5cb3-ee20-48bb-8dfa-133d2a4856a5-0', usage_metadata={'input_tokens': 9, 'output_tokens': 46, 'total_tokens': 55})"
            ]
          },
          "metadata": {},
          "execution_count": 6
        }
      ]
    },
    {
      "cell_type": "code",
      "source": [
        "from langchain_core.messages import AIMessage\n",
        "\n",
        "llm.invoke(\n",
        "    [\n",
        "        HumanMessage(content=\"Hi! I'm Bob\"),\n",
        "        AIMessage(content=\"Hello Bob! How can I assist you today?\"),\n",
        "        HumanMessage(content=\"What's my name?\"),\n",
        "    ]\n",
        ")"
      ],
      "metadata": {
        "colab": {
          "base_uri": "https://localhost:8080/"
        },
        "id": "Zpr29fXbuh8f",
        "outputId": "e8ab4942-774b-40c8-d814-c42a19c022fd"
      },
      "execution_count": null,
      "outputs": [
        {
          "output_type": "execute_result",
          "data": {
            "text/plain": [
              "AIMessage(content='I was just told that your name is Bob. Is there something specific you would like to do or talk about?', additional_kwargs={}, response_metadata={'token_usage': {'prompt_tokens': 30, 'completion_tokens': 24, 'total_tokens': 54, 'prompt_tokens_details': None}, 'model_name': 'mistralai/mistral-small-3.1-24b-instruct:free', 'model': 'mistralai/mistral-small-3.1-24b-instruct:free', 'finish_reason': 'stop'}, id='run--3e777bb3-1de8-41d3-9039-7059aef4ff52-0', usage_metadata={'input_tokens': 30, 'output_tokens': 24, 'total_tokens': 54})"
            ]
          },
          "metadata": {},
          "execution_count": 7
        }
      ]
    },
    {
      "cell_type": "code",
      "source": [
        "llm.invoke(\n",
        "    [\n",
        "        HumanMessage(content=\"yeah!can you talk about the digestive system in 3 sentences?\"),\n",
        "        AIMessage(content=\"Hello Bob! How can I assist you today?\"),\n",
        "\n",
        "\n",
        "    ]\n",
        ")"
      ],
      "metadata": {
        "id": "rdkldZBjuqpA",
        "colab": {
          "base_uri": "https://localhost:8080/"
        },
        "outputId": "077b0bdf-39c7-4308-d424-7c6b107ffe41"
      },
      "execution_count": null,
      "outputs": [
        {
          "output_type": "execute_result",
          "data": {
            "text/plain": [
              "AIMessage(content=' The digestive system is a complex network of organs that work together to break down food, extract nutrients, and eliminate waste. It starts at the mouth and ends at the anus, with key organs including the stomach, liver, pancreas, gallbladder, small intestine, and large intestine. The process involves both mechanical and chemical digestion, facilitated by enzymes and acids.', additional_kwargs={}, response_metadata={'token_usage': {'prompt_tokens': 579, 'completion_tokens': 74, 'total_tokens': 653}, 'model_name': 'mistralai/mistral-small-3.1-24b-instruct:free', 'model': 'mistralai/mistral-small-3.1-24b-instruct:free', 'finish_reason': 'stop'}, id='run--93e11dfd-43db-4743-902c-77884225562c-0', usage_metadata={'input_tokens': 579, 'output_tokens': 74, 'total_tokens': 653})"
            ]
          },
          "metadata": {},
          "execution_count": 10
        }
      ]
    }
  ]
}